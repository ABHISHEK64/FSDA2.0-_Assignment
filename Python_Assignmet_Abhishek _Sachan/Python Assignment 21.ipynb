{
 "cells": [
  {
   "cell_type": "markdown",
   "id": "effe9afb",
   "metadata": {},
   "source": [
    "1. Add the current date to the text file today.txt as a string."
   ]
  },
  {
   "cell_type": "code",
   "execution_count": 17,
   "id": "68c94086",
   "metadata": {},
   "outputs": [],
   "source": [
    "from datetime import date\n",
    "from datetime import datetime\n",
    "\n",
    "# Get the current date as a string\n",
    "today = date.today().strftime(\"%Y-%m-%d\")\n",
    "\n",
    "# Write the date to the file\n",
    "with open(\"today.txt\", \"w\") as file:\n",
    "    file.write(today)\n",
    "file.close()    "
   ]
  },
  {
   "cell_type": "markdown",
   "id": "04e8f59d",
   "metadata": {},
   "source": [
    "2. Read the text file today.txt into the string today_string"
   ]
  },
  {
   "cell_type": "code",
   "execution_count": 12,
   "id": "2c46b111",
   "metadata": {},
   "outputs": [
    {
     "data": {
      "text/plain": [
       "'2023-03-08'"
      ]
     },
     "execution_count": 12,
     "metadata": {},
     "output_type": "execute_result"
    }
   ],
   "source": [
    "with open(\"today.txt\",\"r\") as file2:\n",
    "    today_string=file2.read()\n",
    "today_string    \n",
    "    "
   ]
  },
  {
   "cell_type": "markdown",
   "id": "e0bc2f5d",
   "metadata": {},
   "source": [
    "3. Parse the date from today_string."
   ]
  },
  {
   "cell_type": "code",
   "execution_count": 18,
   "id": "2df057be",
   "metadata": {},
   "outputs": [
    {
     "data": {
      "text/plain": [
       "datetime.datetime(2023, 3, 8, 0, 0)"
      ]
     },
     "execution_count": 18,
     "metadata": {},
     "output_type": "execute_result"
    }
   ],
   "source": [
    "datetime.strptime(today_string,\"%Y-%m-%d\")"
   ]
  },
  {
   "cell_type": "markdown",
   "id": "5e32ee2f",
   "metadata": {},
   "source": [
    "4. List the files in your current directory"
   ]
  },
  {
   "cell_type": "code",
   "execution_count": 21,
   "id": "a2c9415e",
   "metadata": {},
   "outputs": [
    {
     "name": "stdout",
     "output_type": "stream",
     "text": [
      ".ipynb_checkpoints\n",
      "python  Assignment 15.docx\n",
      "Python Assignment 10.docx\n",
      "Python Assignment 11.docx\n",
      "Python Assignment 12.docx\n",
      "Python Assignment 13.docx\n",
      "python Assignment 15.docx\n",
      "Python Assignment 16.ipynb\n",
      "Python Assignment 17.ipynb\n",
      "Python Assignment 19.ipynb\n",
      "Python Assignment 2.docx\n",
      "Python Assignment 3.docx\n",
      "Python Assignment 4.docx\n",
      "Python Assignment 6.docx\n",
      "Python Assignment 7.docx\n",
      "Python Assignment 8.docx\n",
      "Python Assignment 9.docx\n",
      "Python Assignment14.ipynb\n",
      "Python Assignmet 1.docx\n",
      "Python Assignmet 5.docx\n",
      "today.txt\n",
      "Untitled.ipynb\n"
     ]
    }
   ],
   "source": [
    "import os\n",
    "current_dir=os.getcwd()\n",
    "for file in os.listdir(current_dir):\n",
    "    print(file)"
   ]
  },
  {
   "cell_type": "markdown",
   "id": "c2965eb2",
   "metadata": {},
   "source": [
    "5. Create a list of all of the files in your parent directory (minimum five files should be available)."
   ]
  },
  {
   "cell_type": "code",
   "execution_count": 22,
   "id": "ec35da8e",
   "metadata": {},
   "outputs": [
    {
     "name": "stdout",
     "output_type": "stream",
     "text": [
      "['9th Oct FSDA Assignment.zip', 'AbhishekSachanDataAnaltyic_ResumeEntryLevel.pdf', 'AbhishekSachanDataAnayticsResume.pdf', 'Abhishek_SachanFSDA2.sql', 'archive (3).zip', 'AttributeDataSet.csv', 'Basic_LinkedInDataExport_01-02-2023.zip', 'Brokers.sql', 'CarSales 1.cbl', 'CarSales 1.csv', 'CarSales.xlsx', 'Categoreies.sql', 'cia (1).xlsx', 'cia-_1_.csv', 'cia.csv', 'cia_factbook.sql', 'Complain Administration (1).csv', 'Complain Administration (1).xlsx', 'complain.sql', 'complain1.sql', 'consu.csv', 'consu3.xlsx', 'consum.csv', 'ConsumerComplaints(1).csv', 'ConsumerComplaints_new 2.csv', 'ConsumerComplaints_new 2.xlsx', 'ConsumerComplaints_new.csv', 'crop.jpeg', 'cropped_and_resized_image.png', 'Customer.sql', 'data.csv', 'Fifa 19 data Analytics.ipynb', 'fifa.sql', 'fifa_19_7899.csv', 'Fn-UseC_-Marketing-Customer-Value-Analysis.csv', 'hello.png', 'ineuronDataAnalytic.pdf', 'ipl-interviews-stand-up-comedy-by-sparsh-kum.mp4', 'outputsales.sql', 'output_sales1.sql', 'P6-Long-Term-Unemployment-Statistics.xlsx', 'P6-OfficeSupplies.csv', 'P6-SuperStoreUS-2015 (1).xlsx', 'Priorites.sql', 'Product-20211124T053757Z-001.zip', 'Products.sql', 'Python Assignment14.ipynb', 'Regions.sql', 'sales1FSDAAssignmentAbhishek.sql', 'sales_data_final.csv', 'sales_data_final1.csv', 'Sample_Longlist_Data.csv', 'Sources.sql', 'spendData.zip', 'States_region.sql', 'Statuses.sql', 'StatusHistory.sql', 'Student Survey.xlsx', 'swiggy.zip', 'Types.sql', 'Untitled.ipynb', 'Untitled1.ipynb']\n"
     ]
    }
   ],
   "source": [
    "import os\n",
    "\n",
    "# get the current working directory\n",
    "current_dir = os.getcwd()\n",
    "\n",
    "# get the parent directory\n",
    "parent_dir = os.path.dirname(current_dir)\n",
    "\n",
    "# list all files in the parent directory\n",
    "parent_files = [f for f in os.listdir(parent_dir) if os.path.isfile(os.path.join(parent_dir, f))]\n",
    "\n",
    "print(parent_files)"
   ]
  },
  {
   "cell_type": "markdown",
   "id": "200c4090",
   "metadata": {},
   "source": [
    "6. Use multiprocessing to create three separate processes. Make each one wait a random number of\n",
    "seconds between one and five, print the current time, and then exit."
   ]
  },
  {
   "cell_type": "code",
   "execution_count": 25,
   "id": "d08038c5",
   "metadata": {},
   "outputs": [],
   "source": [
    "import multiprocessing\n",
    "import time\n",
    "import random\n",
    "import datetime\n",
    "\n",
    "def process_func():\n",
    "    wait_time = random.randint(1, 5)\n",
    "    print(f\"Process {multiprocessing.current_process().name} waiting for {wait_time} seconds...\")\n",
    "    time.sleep(wait_time)\n",
    "    print(f\"Process {multiprocessing.current_process().name} woke up at {datetime.datetime.now()}\")\n",
    "\n",
    "if __name__ == '__main__':\n",
    "    for i in range(3):\n",
    "        p = multiprocessing.Process(target=process_func, name=f\"Process-{i}\")\n",
    "        p.start()"
   ]
  },
  {
   "cell_type": "markdown",
   "id": "11f52cf3",
   "metadata": {},
   "source": [
    "7. Create a date object of your day of birth."
   ]
  },
  {
   "cell_type": "code",
   "execution_count": 26,
   "id": "d7619cc8",
   "metadata": {},
   "outputs": [
    {
     "name": "stdout",
     "output_type": "stream",
     "text": [
      "2000-03-21\n"
     ]
    }
   ],
   "source": [
    "from datetime import date\n",
    "\n",
    "birthday = date(2000, 3, 21)\n",
    "print(birthday)"
   ]
  },
  {
   "cell_type": "markdown",
   "id": "59d0833f",
   "metadata": {},
   "source": [
    "8. What day of the week was your day of birth?"
   ]
  },
  {
   "cell_type": "code",
   "execution_count": 27,
   "id": "d21a252f",
   "metadata": {},
   "outputs": [
    {
     "name": "stdout",
     "output_type": "stream",
     "text": [
      "My birthday was on a Tuesday\n"
     ]
    }
   ],
   "source": [
    "from datetime import date\n",
    "\n",
    "birthday = date(2000, 3, 21)\n",
    "day_of_week = birthday.weekday()\n",
    "\n",
    "days = [\"Monday\", \"Tuesday\", \"Wednesday\", \"Thursday\", \"Friday\", \"Saturday\", \"Sunday\"]\n",
    "print(\"My birthday was on a\", days[day_of_week])"
   ]
  },
  {
   "cell_type": "markdown",
   "id": "cfe42cef",
   "metadata": {},
   "source": [
    "9. When will you be (or when were you) 10,000 days old?"
   ]
  },
  {
   "cell_type": "code",
   "execution_count": 29,
   "id": "3d47e20d",
   "metadata": {},
   "outputs": [
    {
     "name": "stdout",
     "output_type": "stream",
     "text": [
      "You will be or were 10,000 days old on: 2027-08-07\n"
     ]
    }
   ],
   "source": [
    "from datetime import date, timedelta\n",
    "\n",
    "birthdate = date(2000, 3, 21)\n",
    "days_old = 10000\n",
    "ten_thousand_days = timedelta(days=days_old)\n",
    "ten_thousand_days_old_date = birthdate + ten_thousand_days\n",
    "\n",
    "print(\"You will be or were 10,000 days old on:\", ten_thousand_days_old_date)"
   ]
  },
  {
   "cell_type": "code",
   "execution_count": null,
   "id": "142fe97d",
   "metadata": {},
   "outputs": [],
   "source": []
  }
 ],
 "metadata": {
  "kernelspec": {
   "display_name": "Python 3 (ipykernel)",
   "language": "python",
   "name": "python3"
  },
  "language_info": {
   "codemirror_mode": {
    "name": "ipython",
    "version": 3
   },
   "file_extension": ".py",
   "mimetype": "text/x-python",
   "name": "python",
   "nbconvert_exporter": "python",
   "pygments_lexer": "ipython3",
   "version": "3.9.13"
  }
 },
 "nbformat": 4,
 "nbformat_minor": 5
}
