{
 "cells": [
  {
   "cell_type": "markdown",
   "id": "70d0d358",
   "metadata": {},
   "source": [
    "# 1 What does RGBA stand for?\n",
    "\n",
    "    R stand for Red\n",
    "    G stand for Green\n",
    "    B stand for Blue\n",
    "    A stand for Alpha"
   ]
  },
  {
   "cell_type": "markdown",
   "id": "0082303a",
   "metadata": {},
   "source": [
    "## 2. From the Pillow module, how do you get the RGBA value of any images?"
   ]
  },
  {
   "cell_type": "code",
   "execution_count": 37,
   "id": "bb9ef6e3",
   "metadata": {},
   "outputs": [
    {
     "name": "stdout",
     "output_type": "stream",
     "text": [
      "(248, 249, 251)\n"
     ]
    }
   ],
   "source": [
    "from PIL import Image\n",
    "imgPath=r'C:\\Users\\Mahima\\Pictures\\Saved Pictures\\Abhishek Sachan21-hadbomb.com.jpeg'\n",
    "img=Image.open(imgPath)\n",
    "x = 100\n",
    "y = 200\n",
    "rgba = img.getpixel((x, y))\n",
    "print (rgba) #(248, 249, 251)"
   ]
  },
  {
   "cell_type": "markdown",
   "id": "e1ee4d2e",
   "metadata": {},
   "source": [
    "# 3. What is a box tuple, and how does it work?\n",
    "\n",
    "In the context of the Pillow module, a \"box tuple\" is a tuple that represents a rectangular region within an image. The tuple contains four integer values: (left, upper, right, lower), where left is the x-coordinate of the left edge of the box, upper is the y-coordinate of the upper edge of the box, right is the x-coordinate of the right edge of the box, and lower is the y-coordinate of the lower edge of the box."
   ]
  },
  {
   "cell_type": "code",
   "execution_count": 43,
   "id": "7bcee919",
   "metadata": {},
   "outputs": [],
   "source": [
    "from PIL import Image\n",
    "imgPath=r'C:\\Users\\Mahima\\Pictures\\Saved Pictures\\Abhishek Sachan21-hadbomb.com.jpeg'\n",
    "img=Image.open(imgPath)\n",
    "box=(80,80,90,90)\n",
    "crop_img= img.crop(box)\n",
    "crop_img.save('crop.jpeg')"
   ]
  },
  {
   "cell_type": "markdown",
   "id": "7ec883d7",
   "metadata": {},
   "source": [
    "# 4. Use your image and load in notebook then, How can you find out the width and height of an Image object?"
   ]
  },
  {
   "cell_type": "code",
   "execution_count": 44,
   "id": "46790524",
   "metadata": {},
   "outputs": [
    {
     "name": "stdout",
     "output_type": "stream",
     "text": [
      "366\n",
      "480\n"
     ]
    }
   ],
   "source": [
    "from PIL import Image\n",
    "imgPath=r'C:\\Users\\Mahima\\Pictures\\Saved Pictures\\Abhishek Sachan21-hadbomb.com.jpeg'\n",
    "img=Image.open(imgPath)\n",
    "width,height=img.size\n",
    "print(width)\n",
    "print(height)"
   ]
  },
  {
   "cell_type": "markdown",
   "id": "ce3f895a",
   "metadata": {},
   "source": [
    "# 5. What method would you call to get Image object for a 100×100 image, excluding the lower-left quarter of it?\n"
   ]
  },
  {
   "cell_type": "code",
   "execution_count": 52,
   "id": "486c655d",
   "metadata": {},
   "outputs": [
    {
     "name": "stdout",
     "output_type": "stream",
     "text": [
      "None\n"
     ]
    }
   ],
   "source": [
    "from PIL import Image\n",
    "imgPath=r'C:\\Users\\Mahima\\Pictures\\Saved Pictures\\Abhishek Sachan21-hadbomb.com.jpeg'\n",
    "box=(0,0,50,50)\n",
    "img=Image.open(imgPath)\n",
    "cropped_img = img.crop(box)\n",
    "resized_img = cropped_img.resize((100, 100))\n",
    "resized_img.save('hello.png')"
   ]
  },
  {
   "cell_type": "markdown",
   "id": "86a2de52",
   "metadata": {},
   "source": [
    "# 6. After making changes to an Image object, how could you save it as an image file?\n",
    "To save changes made to an Image object as an image file, you can use the save() method. The save() method can be used to save the image in a variety of file formats such as JPEG, PNG, BMP, and others.\n"
   ]
  },
  {
   "cell_type": "code",
   "execution_count": 56,
   "id": "576b1b4f",
   "metadata": {},
   "outputs": [],
   "source": [
    "from PIL import Image\n",
    "imgPath=r'C:\\Users\\Mahima\\Pictures\\Saved Pictures\\Abhishek Sachan21-hadbomb.com.jpeg'\n",
    "box=(0,0,50,50)\n",
    "img=Image.open(imgPath)\n",
    "\n"
   ]
  },
  {
   "cell_type": "markdown",
   "id": "3f5c09c6",
   "metadata": {},
   "source": [
    "# 7. What module contains Pillow’s shape-drawing code?\n",
    "Pillow's shape-drawing code is contained in the ImageDraw module. The ImageDraw module provides a set of methods for drawing various shapes such as lines, rectangles, ellipses, polygons, and more on an Image object."
   ]
  },
  {
   "cell_type": "code",
   "execution_count": 80,
   "id": "cd660a5a",
   "metadata": {},
   "outputs": [],
   "source": [
    "from PIL import Image,ImageDraw\n",
    "imgPath=r'C:\\Users\\Mahima\\Pictures\\Saved Pictures\\Abhishek Sachan21-hadbomb.com.jpeg'\n",
    "box=(0,0,50,50)\n",
    "img=Image.open(imgPath)\n",
    "draw=ImageDraw.Draw(img)\n",
    "draw.rectangle([(90, 20), (300, 250)], outline='green')\n",
    "img.show()"
   ]
  },
  {
   "cell_type": "markdown",
   "id": "71f2c89a",
   "metadata": {},
   "source": [
    "# 8. Image objects do not have drawing methods. What kind of object does? How do you get this kind of object?\n",
    "Image objects do not have built-in drawing methods, but the ImageDraw module provides a separate ImageDraw object that can be used to draw on an Image object.\n",
    "\n",
    "To get an ImageDraw object, you need to create it using the ImageDraw.Draw() method and pass in the Image"
   ]
  },
  {
   "cell_type": "code",
   "execution_count": 84,
   "id": "b7733f0f",
   "metadata": {},
   "outputs": [],
   "source": [
    "from PIL import Image,ImageDraw\n",
    "imgPath=r'C:\\Users\\Mahima\\Pictures\\Saved Pictures\\Abhishek Sachan21-hadbomb.com.jpeg'\n",
    "box=(0,0,50,50)\n",
    "img=Image.open(imgPath)\n",
    "draw=ImageDraw.Draw(img)\n",
    "draw.line((0, 0) + img.size, fill=228)\n",
    "draw.line((0, img.size[1], img.size[0], 0), fill=228)\n",
    "img.show()\n"
   ]
  },
  {
   "cell_type": "code",
   "execution_count": null,
   "id": "11a5012f",
   "metadata": {},
   "outputs": [],
   "source": []
  }
 ],
 "metadata": {
  "kernelspec": {
   "display_name": "Python 3 (ipykernel)",
   "language": "python",
   "name": "python3"
  },
  "language_info": {
   "codemirror_mode": {
    "name": "ipython",
    "version": 3
   },
   "file_extension": ".py",
   "mimetype": "text/x-python",
   "name": "python",
   "nbconvert_exporter": "python",
   "pygments_lexer": "ipython3",
   "version": "3.9.13"
  }
 },
 "nbformat": 4,
 "nbformat_minor": 5
}
