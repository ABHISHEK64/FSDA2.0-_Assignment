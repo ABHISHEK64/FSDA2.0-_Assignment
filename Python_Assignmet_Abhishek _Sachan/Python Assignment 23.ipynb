{
 "cells": [
  {
   "cell_type": "markdown",
   "id": "6dd6a58a",
   "metadata": {},
   "source": [
    "1. What is the result of the code, and why?\n",
    "&gt;&gt;&gt; def func(a, b=6, c=8):\n",
    "print(a, b, c)\n",
    "&gt;&gt;&gt; func(1, 2)\n"
   ]
  },
  {
   "cell_type": "code",
   "execution_count": 1,
   "id": "9030523e",
   "metadata": {},
   "outputs": [
    {
     "name": "stdout",
     "output_type": "stream",
     "text": [
      "1 2 8\n"
     ]
    }
   ],
   "source": [
    "def func(a,b=6,c=8):\n",
    "    print(a,b,c)\n",
    "func(1,2)"
   ]
  },
  {
   "cell_type": "markdown",
   "id": "5b8bc64b",
   "metadata": {},
   "source": [
    "The function func() takes three parameters, a, b, and c, with b and c having default values of 6 and 8, respectively. In the function call func(1, 2), the argument 1 is assigned to parameter a, and 2 is assigned to parameter b, while the default value of 8 is assigned to c.\n",
    "\n",
    "Therefore, when the function is called with these arguments, 1 is printed as the value of a, 2 is printed as the value of b, and the default value of 8 is printed as the value of c."
   ]
  },
  {
   "cell_type": "markdown",
   "id": "16e3a74f",
   "metadata": {},
   "source": [
    "2. What is the result of this code, and why?\n",
    "&gt;&gt;&gt; def func(a, b, c=5):\n",
    "print(a, b, c)\n",
    "&gt;&gt;&gt; func(1, c=3, b=2)"
   ]
  },
  {
   "cell_type": "code",
   "execution_count": 2,
   "id": "2e7dcb11",
   "metadata": {},
   "outputs": [
    {
     "name": "stdout",
     "output_type": "stream",
     "text": [
      "1 2 3\n"
     ]
    }
   ],
   "source": [
    "def func(a,b,c=5):\n",
    "    print(a,b,c)\n",
    "func(1,c=3,b=2)"
   ]
  },
  {
   "cell_type": "markdown",
   "id": "78b8e3f9",
   "metadata": {},
   "source": [
    "The function func() takes three parameters, a, b, and c, with c having a default value of 5. In the function call func(1, c=3, b=2), the value 1 is assigned to a, 2 is assigned to b, and 3 is assigned to c.\n",
    "\n",
    "Even though the arguments are not in the same order as the function definition, the interpreter can match the argument c=3 to the correct parameter c. Therefore, when the function is called with these arguments, 1 is printed as the value of a, 2 is printed as the value of b, and 3 is printed as the value of c."
   ]
  },
  {
   "cell_type": "markdown",
   "id": "50585a67",
   "metadata": {},
   "source": [
    "3. How about this code: what is its result, and why?\n",
    "&gt;&gt;&gt; def func(a, *pargs):\n",
    "print(a, pargs)\n",
    "&gt;&gt;&gt; func(1, 2, 3)"
   ]
  },
  {
   "cell_type": "code",
   "execution_count": 3,
   "id": "f1e6f8cd",
   "metadata": {},
   "outputs": [
    {
     "name": "stdout",
     "output_type": "stream",
     "text": [
      "1 (2, 3)\n"
     ]
    }
   ],
   "source": [
    "def func(a,*pargs):\n",
    "    print(a,pargs)\n",
    "func(1,2,3)"
   ]
  },
  {
   "cell_type": "markdown",
   "id": "8e5ea50f",
   "metadata": {},
   "source": [
    "The function func() takes a parameter a and a variable-length argument tuple *pargs. In the function call func(1, 2, 3), the value 1 is assigned to a, and the values 2 and 3 are collected into a tuple and assigned to pargs.\n",
    "\n",
    "Therefore, when the function is called with these arguments, 1 is printed as the value of a, and (2, 3) is printed as the value of pargs."
   ]
  },
  {
   "cell_type": "markdown",
   "id": "e3e7233a",
   "metadata": {},
   "source": [
    "4. What does this code print, and why?\n",
    "&gt;&gt;&gt; def func(a, **kargs):\n",
    "print(a, kargs)\n",
    "&gt;&gt;&gt; func(a=1, c=3, b=2)"
   ]
  },
  {
   "cell_type": "code",
   "execution_count": 5,
   "id": "045ed45b",
   "metadata": {},
   "outputs": [
    {
     "name": "stdout",
     "output_type": "stream",
     "text": [
      "1 {'c': 3, 'b': 2}\n"
     ]
    }
   ],
   "source": [
    "def func(a,**kargs):\n",
    "    print(a,kargs)\n",
    "func(a=1,c=3,b=2)"
   ]
  },
  {
   "cell_type": "markdown",
   "id": "522d23f8",
   "metadata": {},
   "source": [
    "The function func() takes a parameter a and a variable-length keyword argument dictionary **kargs. In the function call func(a=1, c=3, b=2), the value 1 is assigned to a, and the keyword arguments c=3 and b=2 are collected into a dictionary and assigned to kargs.\n",
    "\n",
    "Therefore, when the function is called with these arguments, 1 is printed as the value of a, and {'c': 3, 'b': 2} is printed as the value of kargs."
   ]
  },
  {
   "cell_type": "markdown",
   "id": "b025c9d2",
   "metadata": {},
   "source": [
    "5. What gets printed by this, and explain?\n",
    "&gt;&gt;&gt; def func(a, b, c=8, d=5): print(a, b, c, d)\n",
    "&gt;&gt;&gt; func(1, *(5, 6))"
   ]
  },
  {
   "cell_type": "markdown",
   "id": "e0ed101e",
   "metadata": {},
   "source": [
    "In the function definition, func(a, b, c=8, d=5) has four parameters, where a and b are positional parameters, and c and d are optional parameters with default values 8 and 5, respectively.\n",
    "\n",
    "When calling the func() function, 1 is assigned to the first parameter a, and 5 and 6 are collected as a tuple (5, 6). The * operator is used to unpack the tuple and map its elements to the next two parameters, i.e., b and c respectively. Since there are only two elements in the tuple, 5 and 6 are assigned to b and c, respectively. The default value of d remains unchanged."
   ]
  },
  {
   "cell_type": "code",
   "execution_count": 8,
   "id": "6ba9aa31",
   "metadata": {},
   "outputs": [
    {
     "name": "stdout",
     "output_type": "stream",
     "text": [
      "1 5 6 5\n"
     ]
    }
   ],
   "source": [
    "def func(a,b,c=8,d=5):\n",
    "    print(a,b,c,d)\n",
    "func(1,*(5,6))"
   ]
  },
  {
   "cell_type": "markdown",
   "id": "283a3df8",
   "metadata": {},
   "source": [
    "6. what is the result of this, and explain?\n",
    "&gt;&gt;&gt; def func(a, b, c): a = 2; b[0] = &#39;x&#39;; c[&#39;a&#39;] = &#39;y&#39;\n",
    "&gt;&gt;&gt; l=1; m=[1]; n={&#39;a&#39;:0}\n",
    "&gt;&gt;&gt; func(l, m, n)\n",
    "\n",
    "&gt;&gt;&gt; l, m, n"
   ]
  },
  {
   "cell_type": "code",
   "execution_count": 11,
   "id": "ffd77531",
   "metadata": {},
   "outputs": [
    {
     "data": {
      "text/plain": [
       "(1, ['x'], {'a': 'y'})"
      ]
     },
     "execution_count": 11,
     "metadata": {},
     "output_type": "execute_result"
    }
   ],
   "source": [
    "def func(a,b,c):\n",
    "    a=2\n",
    "    b[0]='x'\n",
    "    c['a']='y'\n",
    "l=1\n",
    "m=[1]\n",
    "n={'a':0}\n",
    "func(l,m,n)\n",
    "l,m,n"
   ]
  },
  {
   "cell_type": "markdown",
   "id": "b0d0ba07",
   "metadata": {},
   "source": [
    "The func function takes three parameters a, b, and c. a is an integer, and b and c are a list and a dictionary, respectively.\n",
    "\n",
    "Inside the func function, the value of a is set to 2, but this does not affect the value of the variable l defined outside the function.\n",
    "\n",
    "The first element of list b is modified to 'x'. Since lists are mutable in Python, this change will affect the list object m defined outside the function.\n",
    "\n",
    "The value of the key 'a' in dictionary c is set to 'y'. Since dictionaries are mutable in Python, this change will affect the dictionary object n defined outside the function."
   ]
  },
  {
   "cell_type": "code",
   "execution_count": null,
   "id": "2fa87c0d",
   "metadata": {},
   "outputs": [],
   "source": []
  }
 ],
 "metadata": {
  "kernelspec": {
   "display_name": "Python 3 (ipykernel)",
   "language": "python",
   "name": "python3"
  },
  "language_info": {
   "codemirror_mode": {
    "name": "ipython",
    "version": 3
   },
   "file_extension": ".py",
   "mimetype": "text/x-python",
   "name": "python",
   "nbconvert_exporter": "python",
   "pygments_lexer": "ipython3",
   "version": "3.9.13"
  }
 },
 "nbformat": 4,
 "nbformat_minor": 5
}
