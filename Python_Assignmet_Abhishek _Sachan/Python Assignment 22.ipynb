{
 "cells": [
  {
   "cell_type": "markdown",
   "id": "2328e637",
   "metadata": {},
   "source": [
    "1. What is the result of the code, and explain?\n",
    "\n",
    "&gt;&gt;&gt; X = &#39;iNeuron&#39;\n",
    "&gt;&gt;&gt; def func():\n",
    "print(X)\n",
    "\n",
    "&gt;&gt;&gt; func()"
   ]
  },
  {
   "cell_type": "code",
   "execution_count": 1,
   "id": "c2f695c7",
   "metadata": {},
   "outputs": [],
   "source": [
    "X='iNeuron'\n",
    "def func():\n",
    "    print(X)"
   ]
  },
  {
   "cell_type": "code",
   "execution_count": 2,
   "id": "67aad3cd",
   "metadata": {},
   "outputs": [
    {
     "name": "stdout",
     "output_type": "stream",
     "text": [
      "iNeuron\n"
     ]
    }
   ],
   "source": [
    "func()"
   ]
  },
  {
   "cell_type": "markdown",
   "id": "9aeef6e0",
   "metadata": {},
   "source": [
    " the variable X, which is the string 'iNeuron'.\n",
    "\n",
    "When the function func() is defined, it doesn't have any local variable called X defined within it, so it looks for a variable with that name in the global scope. In this case, there is a global variable X defined with the value 'iNeuron'. Therefore, when func() is called, it prints the value of X using the print() function, which outputs the string 'iNeuron' to the console."
   ]
  },
  {
   "cell_type": "markdown",
   "id": "de3cbf86",
   "metadata": {},
   "source": [
    "2. What is the result of the code, and explain?\n",
    "\n",
    "&gt;&gt;&gt; X = &#39;iNeuron&#39;\n",
    "&gt;&gt;&gt; def func():\n",
    "X = &#39;NI!&#39;\n",
    "\n",
    "&gt;&gt;&gt; func()\n",
    "&gt;&gt;&gt; print(X)"
   ]
  },
  {
   "cell_type": "code",
   "execution_count": 3,
   "id": "fa942fe3",
   "metadata": {},
   "outputs": [
    {
     "name": "stdout",
     "output_type": "stream",
     "text": [
      "iNeuron\n"
     ]
    }
   ],
   "source": [
    "X='iNeuron'\n",
    "def func():\n",
    "    X='NI!'\n",
    "func()\n",
    "print(X)"
   ]
  },
  {
   "cell_type": "markdown",
   "id": "e1ecdd20",
   "metadata": {},
   "source": [
    "When the function func() is defined, it creates a local variable also called X and assigns it the value 'NI!'. This local variable is separate from the global variable X, and modifying it does not affect the value of the global variable.\n",
    "\n",
    "When func() is called, it creates the local variable X and assigns it the value 'NI!', but it doesn't return anything or modify any other variable, so it appears to do nothing.\n",
    "\n",
    "After calling func(), the global variable X still has the value 'iNeuron', because the local variable X defined in func() doesn't affect the value of the global variable.\n",
    "\n",
    "When print(X) is called outside of func(), it prints the value of the global variable X,"
   ]
  },
  {
   "cell_type": "markdown",
   "id": "01cd287b",
   "metadata": {},
   "source": [
    "3. What does this code print, and why?\n",
    "\n",
    "&gt;&gt;&gt; X = &#39;iNeuron&#39;\n",
    "&gt;&gt;&gt; def func():\n",
    "X = &#39;NI&#39;\n",
    "print(X)\n",
    "\n",
    "&gt;&gt;&gt; func()\n",
    "&gt;&gt;&gt; print(X)"
   ]
  },
  {
   "cell_type": "code",
   "execution_count": 4,
   "id": "91fe6688",
   "metadata": {},
   "outputs": [
    {
     "name": "stdout",
     "output_type": "stream",
     "text": [
      "NI\n",
      "iNeuron\n"
     ]
    }
   ],
   "source": [
    "X='iNeuron'\n",
    "def func():\n",
    "    X='NI'\n",
    "    print(X)\n",
    "func()\n",
    "print(X)"
   ]
  },
  {
   "cell_type": "markdown",
   "id": "045aadf5",
   "metadata": {},
   "source": [
    "The code will print the string 'NI' when the function func() is called, and the string 'iNeuron' when print(X) is called outside of the function.\n",
    "\n",
    "When the function func() is defined, it creates a local variable called X and assigns it the value 'NI'. This local variable is separate from the global variable X, and modifying it does not affect the value of the global variable. The function then prints the value of the local variable X, which is 'NI'.\n",
    "\n",
    "After calling func(), the global variable X still has the value 'iNeuron', because the local variable X defined in func() doesn't affect the value of the global variable.\n",
    "\n",
    "When print(X) is called outside of func(), it prints the value of the global variable X, which is still 'iNeuron"
   ]
  },
  {
   "cell_type": "markdown",
   "id": "0d169d21",
   "metadata": {},
   "source": [
    "4. What output does this code produce? Why?\n",
    "\n",
    "&gt;&gt;&gt; X = &#39;iNeuron&#39;\n",
    "&gt;&gt;&gt; def func():\n",
    "global X\n",
    "X = &#39;NI&#39;\n",
    "\n",
    "&gt;&gt;&gt; func()\n",
    "&gt;&gt;&gt; print(X)"
   ]
  },
  {
   "cell_type": "code",
   "execution_count": 7,
   "id": "7607136e",
   "metadata": {},
   "outputs": [
    {
     "name": "stdout",
     "output_type": "stream",
     "text": [
      "NI\n"
     ]
    }
   ],
   "source": [
    "X='iNeuron'\n",
    "def func():\n",
    "    global X\n",
    "X='NI'\n",
    "func()\n",
    "print(X)"
   ]
  },
  {
   "cell_type": "markdown",
   "id": "b63bf5d1",
   "metadata": {},
   "source": [
    "When the function func() is called, it declares X as a global variable using the global keyword. This means that any modifications made to X inside the function will affect the global variable X outside the function.\n",
    "\n",
    "The line X = 'NI' then assigns the value 'NI' to the global variable X. So after calling func(), the value of the global variable X is 'NI'.\n",
    "\n",
    "When print(X) is called outside of func(), it prints the value of the global variable X, which is 'NI'"
   ]
  },
  {
   "cell_type": "markdown",
   "id": "cb6e2bd5",
   "metadata": {},
   "source": [
    "5. What about this code—what’s the output, and why?\n",
    "\n",
    "&gt;&gt;&gt; X = &#39;iNeuron&#39;\n",
    "&gt;&gt;&gt; def func():\n",
    "X = &#39;NI&#39;\n",
    "def nested():\n",
    "print(X)\n",
    "nested()\n",
    "\n",
    "&gt;&gt;&gt; func()\n",
    "&gt;&gt;&gt; X"
   ]
  },
  {
   "cell_type": "code",
   "execution_count": 12,
   "id": "ce42e3e8",
   "metadata": {},
   "outputs": [
    {
     "name": "stdout",
     "output_type": "stream",
     "text": [
      "NI\n",
      "iNeuron\n"
     ]
    }
   ],
   "source": [
    "X='iNeuron'\n",
    "def func():\n",
    "    X='NI'\n",
    "    def nested():\n",
    "        print(X)\n",
    "    nested()\n",
    "func()\n",
    "print(X)"
   ]
  },
  {
   "cell_type": "markdown",
   "id": "1a9057db",
   "metadata": {},
   "source": [
    "When the function func() is called, it defines a local variable X with the value 'NI'. However, this local variable is only accessible inside the func() function and is not accessible outside of it.\n",
    "\n",
    "The function nested() is also defined inside func(), and it prints the value of the variable X that is in the enclosing scope. In this case, the enclosing scope is the scope of func(), where X has the value 'NI'. So when nested() is called, it prints 'NI'.\n",
    "\n",
    "When func() is called, it does not return anything, so calling print(X) outside of the function simply prints the value of the global variable X, which is still 'iNeuron'."
   ]
  },
  {
   "cell_type": "markdown",
   "id": "44019a47",
   "metadata": {},
   "source": [
    "6. How about this code: what is its output in Python 3, and explain?\n",
    "\n",
    "&gt;&gt;&gt; def func():\n",
    "X = &#39;NI&#39;\n",
    "def nested():\n",
    "nonlocal X\n",
    "X = &#39;Spam&#39;\n",
    "nested()\n",
    "print(X)\n",
    "\n",
    "&gt;&gt;&gt; func()"
   ]
  },
  {
   "cell_type": "code",
   "execution_count": 13,
   "id": "2fde6e7f",
   "metadata": {},
   "outputs": [
    {
     "name": "stdout",
     "output_type": "stream",
     "text": [
      "Spam\n"
     ]
    }
   ],
   "source": [
    "def func():\n",
    "    X = 'NI'\n",
    "    def nested():\n",
    "        nonlocal X\n",
    "        X = 'Spam'\n",
    "    nested()\n",
    "    print(X)\n",
    "\n",
    "func()"
   ]
  },
  {
   "cell_type": "markdown",
   "id": "e5e6d5c8",
   "metadata": {},
   "source": [
    "The func() function defines a local variable X with the value 'NI'. It then defines another function called nested(). In nested(), the nonlocal keyword is used to indicate that X is not a local variable but a variable from the enclosing scope (in this case, the scope of func()).\n",
    "\n",
    "The line X = 'Spam' inside nested() assigns the value 'Spam' to X. Because X is marked as nonlocal, this assignment affects the variable X in the enclosing scope of func().\n",
    "\n",
    "Finally, the function func() calls nested(), which modifies the value of X to 'Spam'. Then print(X) is called, which prints the value of X. Since X was modified to 'Spam' inside nested(), the output of the function call is 'Spam'.\n",
    "\n"
   ]
  },
  {
   "cell_type": "code",
   "execution_count": null,
   "id": "a0def3b7",
   "metadata": {},
   "outputs": [],
   "source": []
  }
 ],
 "metadata": {
  "kernelspec": {
   "display_name": "Python 3 (ipykernel)",
   "language": "python",
   "name": "python3"
  },
  "language_info": {
   "codemirror_mode": {
    "name": "ipython",
    "version": 3
   },
   "file_extension": ".py",
   "mimetype": "text/x-python",
   "name": "python",
   "nbconvert_exporter": "python",
   "pygments_lexer": "ipython3",
   "version": "3.9.13"
  }
 },
 "nbformat": 4,
 "nbformat_minor": 5
}
